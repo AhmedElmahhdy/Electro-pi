{
 "cells": [
  {
   "cell_type": "code",
   "execution_count": 1,
   "id": "01ed7cbe",
   "metadata": {},
   "outputs": [],
   "source": [
    "import numpy as np \n",
    "import pandas as pd"
   ]
  },
  {
   "cell_type": "code",
   "execution_count": 2,
   "id": "b5569507",
   "metadata": {},
   "outputs": [],
   "source": [
    "class DataPrepKit:\n",
    "    def __init__(self, data):\n",
    "        self.data = data\n",
    "  \n",
    "     #1- read data  \n",
    "    def read_data(data_path):\n",
    "        if data_path.endswith(\"csv\"):\n",
    "            data = pd.read_csv(data_path)\n",
    "        elif data_path.endswith(\"xlsx\"):\n",
    "            data = pd.read_excel(data_path)\n",
    "        elif data_path.endswith(\"json\"):\n",
    "            data = pd.read_json(data_path)\n",
    "        else:\n",
    "                raise ValueError(\"Unsupported file format. Only CSV, Excel, and JSON are supported.\")\n",
    "        return data\n",
    "    \n",
    "    # 2- data summary\n",
    "    def data_summary(self):\n",
    "        summary = {}\n",
    "        summary['mean'] = self.data.mean()\n",
    "        summary['median'] = self.data.median()\n",
    "        summary['mode'] = self.data.mode().iloc[0]  # Mode might return multiple values\n",
    "        summary['std_dev'] = self.data.std()\n",
    "        return summary\n",
    "    \n",
    "    # 3- Handle missing values\n",
    "    def handle_missing_valuse(self , action = '', strategy = ''):\n",
    "        if action == 'removing':\n",
    "            return self.data.dropna()\n",
    "        elif action =='inputing':\n",
    "            if strategy == 'mean':\n",
    "                return self.data.fillna(data.mean())\n",
    "            elif strategy == 'median':\n",
    "                return self.data.fillna(data.median())\n",
    "            elif strategy == 'mode':\n",
    "                return self.data.fillna(data.mode().iloc[0])\n",
    "            else:\n",
    "                raise ValueError(\"Unsupported imputation strategy. Please choose from 'mean', 'median', or 'mode'.\")\n",
    "        else :\n",
    "            raise ValueError(\"two functionalty is allowed removing and \")\n",
    "       \n",
    "    # 4- Categorical Data Encoding\n",
    "    def encode_categorical_data(self, columns):\n",
    "        return pd.get_dummies(self.data, columns=columns)\n",
    "\n",
    "    \n",
    " \n",
    "\n",
    "    "
   ]
  },
  {
   "cell_type": "code",
   "execution_count": null,
   "id": "85f902bd",
   "metadata": {},
   "outputs": [],
   "source": []
  }
 ],
 "metadata": {
  "kernelspec": {
   "display_name": "Python 3 (ipykernel)",
   "language": "python",
   "name": "python3"
  },
  "language_info": {
   "codemirror_mode": {
    "name": "ipython",
    "version": 3
   },
   "file_extension": ".py",
   "mimetype": "text/x-python",
   "name": "python",
   "nbconvert_exporter": "python",
   "pygments_lexer": "ipython3",
   "version": "3.11.4"
  }
 },
 "nbformat": 4,
 "nbformat_minor": 5
}
